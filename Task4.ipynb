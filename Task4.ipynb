{
 "cells": [
  {
   "cell_type": "code",
   "execution_count": 1,
   "id": "d8eb7b57-76df-45a8-864e-e7ea00245fe7",
   "metadata": {},
   "outputs": [],
   "source": [
    "import pyspark\n",
    "from pyspark.sql import SparkSession"
   ]
  },
  {
   "cell_type": "code",
   "execution_count": 2,
   "id": "b5a9d6b2-f2f6-433a-b2af-9e0b9d0bafd1",
   "metadata": {},
   "outputs": [],
   "source": [
    "spark = SparkSession.builder.master(\"local[1]\")\\\n",
    "          .appName(\"task4\")\\\n",
    "          .getOrCreate()"
   ]
  },
  {
   "cell_type": "code",
   "execution_count": 3,
   "id": "2d4ff0a6-ff3f-4988-93c9-b42ebc8c7718",
   "metadata": {},
   "outputs": [],
   "source": [
    "input = \"\"\"\n",
    "+---+------------------+-----+\n",
    "| id|              Col1| Col2|\n",
    "+---+------------------+-----+\n",
    "|  1|     one,two,three|  one|\n",
    "|  2|     four,one,five|  six|\n",
    "|  3|seven,nine,one,two|eight|\n",
    "|  4|    two,three,five| five|\n",
    "|  5|      six,five,one|seven|\n",
    "+---+------------------+-----+\n",
    "\"\"\"\n"
   ]
  },
  {
   "cell_type": "code",
   "execution_count": 4,
   "id": "280124f1-ab31-4fab-bed2-ff676dbfb715",
   "metadata": {},
   "outputs": [],
   "source": [
    "df_list = input.split(\"\\n\")"
   ]
  },
  {
   "cell_type": "code",
   "execution_count": 5,
   "id": "560e5fe9-4974-4815-bd51-c63703ece645",
   "metadata": {},
   "outputs": [
    {
     "data": {
      "text/plain": [
       "'+---+------------------+-----+'"
      ]
     },
     "execution_count": 5,
     "metadata": {},
     "output_type": "execute_result"
    }
   ],
   "source": [
    "df_list.pop(0)\n",
    "df_list.pop(0)\n",
    "df_list.pop()\n",
    "df_list.pop()"
   ]
  },
  {
   "cell_type": "code",
   "execution_count": 6,
   "id": "ce54db2c-2e65-4b58-83d5-787dd19b0e0e",
   "metadata": {},
   "outputs": [
    {
     "data": {
      "text/plain": [
       "['| id|              Col1| Col2|',\n",
       " '+---+------------------+-----+',\n",
       " '|  1|     one,two,three|  one|',\n",
       " '|  2|     four,one,five|  six|',\n",
       " '|  3|seven,nine,one,two|eight|',\n",
       " '|  4|    two,three,five| five|',\n",
       " '|  5|      six,five,one|seven|']"
      ]
     },
     "execution_count": 6,
     "metadata": {},
     "output_type": "execute_result"
    }
   ],
   "source": [
    "df_list"
   ]
  },
  {
   "cell_type": "code",
   "execution_count": 7,
   "id": "adcab54b-da0e-4fd0-be95-cafb172d86cd",
   "metadata": {},
   "outputs": [],
   "source": [
    "def parse_columns(input_list):\n",
    "    col_list = df_list[0].split(\"|\")\n",
    "    col_list.pop(0)\n",
    "    col_list.pop()\n",
    "\n",
    "    for i, elem in enumerate(col_list):\n",
    "        col_list[i] = elem.strip()\n",
    "\n",
    "    return col_list"
   ]
  },
  {
   "cell_type": "code",
   "execution_count": 8,
   "id": "175f565e-2f82-4d7a-ada1-df833a9be661",
   "metadata": {},
   "outputs": [],
   "source": [
    "col_list = parse_columns(df_list)"
   ]
  },
  {
   "cell_type": "code",
   "execution_count": 14,
   "id": "d60c4bf9-a06b-482f-9303-51f195e1c11f",
   "metadata": {},
   "outputs": [
    {
     "data": {
      "text/plain": [
       "['id', 'Col1', 'Col2']"
      ]
     },
     "execution_count": 14,
     "metadata": {},
     "output_type": "execute_result"
    }
   ],
   "source": [
    "col_list"
   ]
  },
  {
   "cell_type": "code",
   "execution_count": 9,
   "id": "673d0cfd-fc48-4f44-ab85-e9dfdc207422",
   "metadata": {},
   "outputs": [
    {
     "data": {
      "text/plain": [
       "'+---+------------------+-----+'"
      ]
     },
     "execution_count": 9,
     "metadata": {},
     "output_type": "execute_result"
    }
   ],
   "source": [
    "df_list.pop(0)\n",
    "df_list.pop(0)"
   ]
  },
  {
   "cell_type": "code",
   "execution_count": 10,
   "id": "a3e60cfb-f3ac-4e2c-8707-26b18445fb84",
   "metadata": {},
   "outputs": [
    {
     "data": {
      "text/plain": [
       "['|  1|     one,two,three|  one|',\n",
       " '|  2|     four,one,five|  six|',\n",
       " '|  3|seven,nine,one,two|eight|',\n",
       " '|  4|    two,three,five| five|',\n",
       " '|  5|      six,five,one|seven|']"
      ]
     },
     "execution_count": 10,
     "metadata": {},
     "output_type": "execute_result"
    }
   ],
   "source": [
    "df_list"
   ]
  },
  {
   "cell_type": "code",
   "execution_count": 21,
   "id": "38e94335-c66a-4d92-9c9d-15dd3171a981",
   "metadata": {},
   "outputs": [],
   "source": [
    "def parse_values(df_list):\n",
    "    values_list = []\n",
    "    for line in df_list:\n",
    "        print(line)\n",
    "        val_line = df_list[0].split(\"|\")\n",
    "        \n",
    "        for i, elem in enumerate(val_line):\n",
    "            val_line[i] = elem.strip()\n",
    "\n",
    "        val_line.pop()\n",
    "        val_line.pop(0)\n",
    "\n",
    "        print(val_line)\n",
    "\n",
    "        values_list.append(val_line)\n",
    "\n",
    "    return values_list\n",
    "    \n",
    "    "
   ]
  },
  {
   "cell_type": "code",
   "execution_count": 22,
   "id": "d836273f-b5ff-4862-8a60-e83a4e599717",
   "metadata": {},
   "outputs": [
    {
     "name": "stdout",
     "output_type": "stream",
     "text": [
      "|  1|     one,two,three|  one|\n",
      "['1', 'one,two,three', 'one']\n",
      "|  2|     four,one,five|  six|\n",
      "['1', 'one,two,three', 'one']\n",
      "|  3|seven,nine,one,two|eight|\n",
      "['1', 'one,two,three', 'one']\n",
      "|  4|    two,three,five| five|\n",
      "['1', 'one,two,three', 'one']\n",
      "|  5|      six,five,one|seven|\n",
      "['1', 'one,two,three', 'one']\n"
     ]
    }
   ],
   "source": [
    "value_list = parse_values(df_list)"
   ]
  },
  {
   "cell_type": "code",
   "execution_count": 18,
   "id": "b572cb79-d8a1-4df2-8421-a6a0b7574356",
   "metadata": {},
   "outputs": [
    {
     "data": {
      "text/plain": [
       "[['1', 'one,two,three', 'one'],\n",
       " ['1', 'one,two,three', 'one'],\n",
       " ['1', 'one,two,three', 'one'],\n",
       " ['1', 'one,two,three', 'one'],\n",
       " ['1', 'one,two,three', 'one']]"
      ]
     },
     "execution_count": 18,
     "metadata": {},
     "output_type": "execute_result"
    }
   ],
   "source": [
    "value_list"
   ]
  },
  {
   "cell_type": "code",
   "execution_count": 16,
   "id": "16826617-1586-4f02-a944-5f4c8cedf880",
   "metadata": {},
   "outputs": [],
   "source": [
    "outputDf = spark.createDataFrame(data=value_list, schema = col_list)"
   ]
  },
  {
   "cell_type": "code",
   "execution_count": 17,
   "id": "74d49acf-886a-4324-b3c2-a0275a18a4c4",
   "metadata": {},
   "outputs": [
    {
     "name": "stdout",
     "output_type": "stream",
     "text": [
      "+---+-------------+----+\n",
      "| id|         Col1|Col2|\n",
      "+---+-------------+----+\n",
      "|  1|one,two,three| one|\n",
      "|  1|one,two,three| one|\n",
      "|  1|one,two,three| one|\n",
      "|  1|one,two,three| one|\n",
      "|  1|one,two,three| one|\n",
      "+---+-------------+----+\n",
      "\n"
     ]
    }
   ],
   "source": [
    "outputDf.show()"
   ]
  },
  {
   "cell_type": "code",
   "execution_count": null,
   "id": "80762fb8-783c-4903-bc9f-cd0abcd33359",
   "metadata": {},
   "outputs": [],
   "source": []
  }
 ],
 "metadata": {
  "kernelspec": {
   "display_name": "Python 3 (ipykernel)",
   "language": "python",
   "name": "python3"
  },
  "language_info": {
   "codemirror_mode": {
    "name": "ipython",
    "version": 3
   },
   "file_extension": ".py",
   "mimetype": "text/x-python",
   "name": "python",
   "nbconvert_exporter": "python",
   "pygments_lexer": "ipython3",
   "version": "3.11.4"
  }
 },
 "nbformat": 4,
 "nbformat_minor": 5
}
