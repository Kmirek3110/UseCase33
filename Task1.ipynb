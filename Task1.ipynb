{
 "cells": [
  {
   "cell_type": "code",
   "execution_count": 46,
   "id": "c52070c0-bb55-4e62-824a-9d252d647474",
   "metadata": {},
   "outputs": [],
   "source": [
    "import pyspark\n",
    "from pyspark.sql import SparkSession\n",
    "from pyspark.sql.types import IntegerType, DateType, StringType\n",
    "\n",
    "\n",
    "spark = SparkSession.builder.master(\"local[1]\")\\\n",
    "          .appName(\"task1\")\\\n",
    "          .getOrCreate()\n",
    "\n",
    "\n",
    "df_accounts = spark.read.option(\"header\",True) \\\n",
    "     .option(\"delimiter\", \";\")\\\n",
    "     .csv(\"work/accounts.csv\")\n",
    "\n",
    "df_country = spark.read.option(\"header\",True) \\\n",
    "    .option(\"delimiter\", \";\")\\\n",
    "     .csv(\"work/country_abbreviation.csv\")\n",
    "\n",
    "df_trans = spark.read.option(\"header\",True) \\\n",
    "    .option(\"delimiter\", \";\")\\\n",
    "     .csv(\"work/transactions.csv\")"
   ]
  },
  {
   "cell_type": "code",
   "execution_count": 2,
   "id": "6e7f94c8-6423-48d7-bfda-bb73c898893b",
   "metadata": {},
   "outputs": [
    {
     "data": {
      "text/plain": [
       "[Row(id='179528', amount='-730.86', account_type='Business', transaction_date='2013-07-10', country='SV'),\n",
       " Row(id='378343', amount='-946.98', account_type='Personal', transaction_date='2018-04-06', country='YE'),\n",
       " Row(id='75450', amount='7816.92', account_type='Professional', transaction_date='2016-11-20', country='SI'),\n",
       " Row(id='357719', amount='704.02', account_type='Business', transaction_date='2016-11-06', country='ID'),\n",
       " Row(id='110511', amount='3462.6', account_type='Personal', transaction_date='2018-01-18', country='BS')]"
      ]
     },
     "execution_count": 2,
     "metadata": {},
     "output_type": "execute_result"
    }
   ],
   "source": [
    "df_trans.take(5)"
   ]
  },
  {
   "cell_type": "code",
   "execution_count": 5,
   "id": "5764da24-6643-4cb5-b7a5-fe5529fda040",
   "metadata": {},
   "outputs": [],
   "source": [
    "df_trans.createOrReplaceTempView(\"trans\")"
   ]
  },
  {
   "cell_type": "code",
   "execution_count": 6,
   "id": "086e14b0-1fdf-47df-b21b-4ac1cb639fa4",
   "metadata": {},
   "outputs": [],
   "source": [
    "df_country.createOrReplaceTempView(\"accounts\")"
   ]
  },
  {
   "cell_type": "code",
   "execution_count": 23,
   "id": "6402b40c-7f37-4a88-b85c-4698924141e8",
   "metadata": {},
   "outputs": [],
   "source": [
    "df11 = spark.sql(\"SELECT account_type, COUNT(account_type) as account_type_count FROM \\\n",
    "    (SELECT id, account_type, COUNT(account_type) FROM trans group by id, account_type)\\\n",
    "    GROUP BY account_type\")"
   ]
  },
  {
   "cell_type": "code",
   "execution_count": 24,
   "id": "6343220b-2add-4404-b06d-8738e17ae4e1",
   "metadata": {},
   "outputs": [
    {
     "data": {
      "text/plain": [
       "DataFrame[summary: string, account_type: string, account_type_count: string]"
      ]
     },
     "execution_count": 24,
     "metadata": {},
     "output_type": "execute_result"
    }
   ],
   "source": [
    "df11.describe()"
   ]
  },
  {
   "cell_type": "code",
   "execution_count": 28,
   "id": "599af55c-58f1-4dd1-acf0-527825e507c9",
   "metadata": {},
   "outputs": [
    {
     "data": {
      "text/plain": [
       "DataFrame[account_type: string, account_type_count: int]"
      ]
     },
     "execution_count": 28,
     "metadata": {},
     "output_type": "execute_result"
    }
   ],
   "source": [
    "df11 = df11.withColumn(\"account_type_count\", df11[\"account_type_count\"].cast(IntegerType()))\n",
    "df11.drop(\"summary\")"
   ]
  },
  {
   "cell_type": "code",
   "execution_count": 30,
   "id": "5499c52c-915b-4da7-b31e-98bdccbf85eb",
   "metadata": {},
   "outputs": [
    {
     "name": "stdout",
     "output_type": "stream",
     "text": [
      "+------------+------------------+\n",
      "|account_type|account_type_count|\n",
      "+------------+------------------+\n",
      "|    Personal|            481997|\n",
      "|Professional|            482170|\n",
      "|    Business|            482350|\n",
      "+------------+------------------+\n",
      "\n"
     ]
    }
   ],
   "source": [
    "df11.show(3)"
   ]
  },
  {
   "cell_type": "code",
   "execution_count": 50,
   "id": "2c1db215-5a08-459d-9f00-fedb8cad90ff",
   "metadata": {},
   "outputs": [],
   "source": [
    "df12 = spark.sql(\"SELECT id as account_id, SUM(amount) as balance, MAX(transaction_date) as latest_date FROM trans group by id\")"
   ]
  },
  {
   "cell_type": "code",
   "execution_count": 41,
   "id": "2cfdef48-4581-4090-98e5-5a7d8549ba5f",
   "metadata": {},
   "outputs": [
    {
     "data": {
      "text/plain": [
       "DataFrame[summary: string, account_id: string, balance: string, latest_date: string]"
      ]
     },
     "execution_count": 41,
     "metadata": {},
     "output_type": "execute_result"
    }
   ],
   "source": [
    "df12.describe()"
   ]
  },
  {
   "cell_type": "code",
   "execution_count": 42,
   "id": "c133c1f6-89c4-41bc-89a2-979cb8c715f0",
   "metadata": {},
   "outputs": [
    {
     "data": {
      "text/plain": [
       "[Row(account_id='1', balance=51909.75000000001, latest_date='2021-08-19'),\n",
       " Row(account_id='10', balance=50807.19, latest_date='2020-12-27'),\n",
       " Row(account_id='100', balance=56948.54, latest_date='2018-06-03'),\n",
       " Row(account_id='1000', balance=59101.64, latest_date='2020-06-24'),\n",
       " Row(account_id='10000', balance=69802.32, latest_date='2019-12-30')]"
      ]
     },
     "execution_count": 42,
     "metadata": {},
     "output_type": "execute_result"
    }
   ],
   "source": [
    "df12.head(5)"
   ]
  },
  {
   "cell_type": "code",
   "execution_count": 48,
   "id": "17d1919d-9615-41df-8015-25823736a5e8",
   "metadata": {},
   "outputs": [
    {
     "data": {
      "text/plain": [
       "DataFrame[account_id: string, balance: string, latest_date: date]"
      ]
     },
     "execution_count": 48,
     "metadata": {},
     "output_type": "execute_result"
    }
   ],
   "source": [
    "df12 = df12.withColumn(\"latest_date\", df12[\"latest_date\"].cast(DateType()))\n",
    "df12 = df12.withColumn(\"balance\", df12[\"balance\"].cast(StringType()))\n",
    "\n",
    "df12.drop(\"summary\")"
   ]
  },
  {
   "cell_type": "code",
   "execution_count": 49,
   "id": "3d82f065-4e17-4b2a-ac15-224351f2ff10",
   "metadata": {},
   "outputs": [
    {
     "name": "stdout",
     "output_type": "stream",
     "text": [
      "+----------+------------------+-----------+\n",
      "|account_id|           balance|latest_date|\n",
      "+----------+------------------+-----------+\n",
      "|         1| 51909.75000000001| 2021-08-19|\n",
      "|        10|          50807.19| 2020-12-27|\n",
      "|       100|          56948.54| 2018-06-03|\n",
      "|      1000|          59101.64| 2020-06-24|\n",
      "|     10000|          69802.32| 2019-12-30|\n",
      "|    100000|          64058.75| 2020-11-11|\n",
      "|    100001|           78541.7| 2021-12-06|\n",
      "|    100002|           44956.1| 2021-07-21|\n",
      "|    100003|          52879.78| 2021-09-09|\n",
      "|    100004| 52040.31999999999| 2020-10-11|\n",
      "|    100005|          42413.65| 2021-12-30|\n",
      "|    100006|           40926.2| 2019-06-11|\n",
      "|    100007|          56828.13| 2020-01-19|\n",
      "|    100008|          35136.65| 2021-08-22|\n",
      "|    100009|31456.100000000002| 2021-08-25|\n",
      "|     10001|          39440.29| 2021-06-02|\n",
      "|    100010|           35856.3| 2021-01-03|\n",
      "|    100011|          94923.52| 2020-12-18|\n",
      "|    100012|52974.729999999996| 2020-12-28|\n",
      "|    100013|39774.490000000005| 2021-02-27|\n",
      "+----------+------------------+-----------+\n",
      "only showing top 20 rows\n",
      "\n"
     ]
    }
   ],
   "source": [
    "df12.show()"
   ]
  },
  {
   "cell_type": "code",
   "execution_count": null,
   "id": "9f3cd99e-c0f6-4d46-af70-8c2dd026d320",
   "metadata": {},
   "outputs": [],
   "source": []
  }
 ],
 "metadata": {
  "kernelspec": {
   "display_name": "Python 3 (ipykernel)",
   "language": "python",
   "name": "python3"
  },
  "language_info": {
   "codemirror_mode": {
    "name": "ipython",
    "version": 3
   },
   "file_extension": ".py",
   "mimetype": "text/x-python",
   "name": "python",
   "nbconvert_exporter": "python",
   "pygments_lexer": "ipython3",
   "version": "3.11.4"
  }
 },
 "nbformat": 4,
 "nbformat_minor": 5
}
