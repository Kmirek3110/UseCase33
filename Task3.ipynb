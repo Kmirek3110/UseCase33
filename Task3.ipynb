{
 "cells": [
  {
   "cell_type": "code",
   "execution_count": 1,
   "id": "d47c9230-351e-49a9-bddc-8efe5938e1a2",
   "metadata": {},
   "outputs": [],
   "source": [
    "import pyspark\n",
    "from pyspark.sql import SparkSession\n",
    "from pyspark.sql.types import IntegerType, DateType, StringType, FloatType\n",
    "from pyspark.sql.functions import *\n",
    "from pyspark.sql.functions import monotonically_increasing_id, row_number\n",
    "from pyspark.sql.window import Window\n",
    "\n",
    "\n",
    "spark = SparkSession.builder.master(\"local[1]\")\\\n",
    "          .appName(\"task3\")\\\n",
    "          .getOrCreate()\n",
    "\n",
    "df_trans = spark.read.option(\"header\",True) \\\n",
    "    .option(\"delimiter\", \";\")\\\n",
    "     .csv(\"work/transactions.csv\")"
   ]
  },
  {
   "cell_type": "code",
   "execution_count": 2,
   "id": "70db0be7-7463-4d01-901b-b4d3c6d43819",
   "metadata": {},
   "outputs": [],
   "source": [
    "df_trans = df_trans.withColumn(\"amount\", df_trans[\"amount\"].cast(FloatType()))"
   ]
  },
  {
   "cell_type": "code",
   "execution_count": 3,
   "id": "de11993c-ff9b-44e0-98ab-366d78b2de47",
   "metadata": {},
   "outputs": [],
   "source": [
    "df_trans = df_trans.orderBy(df_trans.amount.asc())"
   ]
  },
  {
   "cell_type": "code",
   "execution_count": 4,
   "id": "6137b651-9337-482f-9f85-38ede030c85e",
   "metadata": {},
   "outputs": [
    {
     "data": {
      "text/plain": [
       "[Row(id='449549', amount=-1000.0, account_type='Business', transaction_date='2011-02-24', country='BD'),\n",
       " Row(id='183734', amount=-1000.0, account_type='Professional', transaction_date='2021-11-04', country='GY'),\n",
       " Row(id='72842', amount=-1000.0, account_type='Business', transaction_date='2020-05-04', country='YE'),\n",
       " Row(id='324722', amount=-999.989990234375, account_type='Business', transaction_date='2018-11-09', country='QA'),\n",
       " Row(id='416224', amount=-999.989990234375, account_type='Personal', transaction_date='2021-03-23', country='AU')]"
      ]
     },
     "execution_count": 4,
     "metadata": {},
     "output_type": "execute_result"
    }
   ],
   "source": [
    "df_trans.head(5)"
   ]
  },
  {
   "cell_type": "code",
   "execution_count": 5,
   "id": "d9888343-ffed-4718-b5aa-61c49e814590",
   "metadata": {},
   "outputs": [
    {
     "data": {
      "text/plain": [
       "[Row(id='259119', amount=9999.98046875, account_type='Personal', transaction_date='2017-03-11', country='UG'),\n",
       " Row(id='317820', amount=9999.98046875, account_type='Professional', transaction_date='2019-11-07', country='EE'),\n",
       " Row(id='303197', amount=9999.98046875, account_type='Personal', transaction_date='2016-11-11', country='UA'),\n",
       " Row(id='426326', amount=9999.990234375, account_type='Business', transaction_date='2015-08-07', country='NL'),\n",
       " Row(id='281332', amount=9999.990234375, account_type='Professional', transaction_date='2019-05-17', country='GT')]"
      ]
     },
     "execution_count": 5,
     "metadata": {},
     "output_type": "execute_result"
    }
   ],
   "source": [
    "df_trans.tail(5)"
   ]
  },
  {
   "cell_type": "code",
   "execution_count": 6,
   "id": "ccc4dd5c-91cb-4257-a3ad-8011779e3e80",
   "metadata": {},
   "outputs": [],
   "source": [
    "class_list = []\n",
    "df_count = df_trans.count()\n",
    "\n",
    "for i in range(df_count):\n",
    "    if i < df_count * 0.25:\n",
    "        class_list.append(\"low\")\n",
    "    elif i < df_count * 0.75:\n",
    "        class_list.append(\"average\")\n",
    "    else:\n",
    "        class_list.append(\"high\")"
   ]
  },
  {
   "cell_type": "code",
   "execution_count": 7,
   "id": "e1732255-5112-4fdd-8058-e9d396cfd975",
   "metadata": {},
   "outputs": [
    {
     "data": {
      "text/plain": [
       "'low'"
      ]
     },
     "execution_count": 7,
     "metadata": {},
     "output_type": "execute_result"
    }
   ],
   "source": [
    "class_list[0]"
   ]
  },
  {
   "cell_type": "code",
   "execution_count": 8,
   "id": "5103cf5f-4f57-4fdc-ae34-d89fc9d3570f",
   "metadata": {},
   "outputs": [
    {
     "data": {
      "text/plain": [
       "'high'"
      ]
     },
     "execution_count": 8,
     "metadata": {},
     "output_type": "execute_result"
    }
   ],
   "source": [
    "class_list[df_count-1]"
   ]
  },
  {
   "cell_type": "code",
   "execution_count": 9,
   "id": "84f731f0-d11d-4435-ad40-973568010209",
   "metadata": {},
   "outputs": [
    {
     "data": {
      "text/plain": [
       "'average'"
      ]
     },
     "execution_count": 9,
     "metadata": {},
     "output_type": "execute_result"
    }
   ],
   "source": [
    "class_list[df_count//2]"
   ]
  },
  {
   "cell_type": "code",
   "execution_count": 10,
   "id": "6c2b60d3-025b-4d4b-aa6f-2d1119000441",
   "metadata": {},
   "outputs": [],
   "source": [
    "classDf = spark.createDataFrame(class_list, \"string\").toDF(\"level\")"
   ]
  },
  {
   "cell_type": "code",
   "execution_count": 11,
   "id": "f6d6339c-4176-4cfd-88a7-284bf184dbd8",
   "metadata": {},
   "outputs": [],
   "source": [
    "df_trans = df_trans.withColumn('row_index', row_number().over(Window.orderBy(monotonically_increasing_id())))\n",
    "classDf = classDf.withColumn('row_index', row_number().over(Window.orderBy(monotonically_increasing_id())))\n",
    "\n",
    "final_df = df_trans.join(classDf, on=[\"row_index\"]).drop(\"row_index\")"
   ]
  },
  {
   "cell_type": "code",
   "execution_count": 12,
   "id": "28130cc2-de38-4205-8eb2-c527f0aa6e54",
   "metadata": {},
   "outputs": [
    {
     "data": {
      "text/plain": [
       "[Row(id='449549', amount=-1000.0, account_type='Business', transaction_date='2011-02-24', country='BD', level='low'),\n",
       " Row(id='183734', amount=-1000.0, account_type='Professional', transaction_date='2021-11-04', country='GY', level='low'),\n",
       " Row(id='72842', amount=-1000.0, account_type='Business', transaction_date='2020-05-04', country='YE', level='low'),\n",
       " Row(id='324722', amount=-999.989990234375, account_type='Business', transaction_date='2018-11-09', country='QA', level='low'),\n",
       " Row(id='69322', amount=-999.989990234375, account_type='Professional', transaction_date='2019-04-06', country='SE', level='low')]"
      ]
     },
     "execution_count": 12,
     "metadata": {},
     "output_type": "execute_result"
    }
   ],
   "source": [
    "final_df.head(5)"
   ]
  },
  {
   "cell_type": "code",
   "execution_count": 13,
   "id": "c0cb1b9b-8d00-4817-a1b2-56da33ec8089",
   "metadata": {},
   "outputs": [
    {
     "data": {
      "text/plain": [
       "[Row(id='259119', amount=9999.98046875, account_type='Personal', transaction_date='2017-03-11', country='UG', level='high'),\n",
       " Row(id='317820', amount=9999.98046875, account_type='Professional', transaction_date='2019-11-07', country='EE', level='high'),\n",
       " Row(id='303197', amount=9999.98046875, account_type='Personal', transaction_date='2016-11-11', country='UA', level='high'),\n",
       " Row(id='426326', amount=9999.990234375, account_type='Business', transaction_date='2015-08-07', country='NL', level='high'),\n",
       " Row(id='281332', amount=9999.990234375, account_type='Professional', transaction_date='2019-05-17', country='GT', level='high')]"
      ]
     },
     "execution_count": 13,
     "metadata": {},
     "output_type": "execute_result"
    }
   ],
   "source": [
    "final_df.tail(5)"
   ]
  },
  {
   "cell_type": "code",
   "execution_count": null,
   "id": "a15645c0-225c-4de6-81d3-2b5b26d36595",
   "metadata": {},
   "outputs": [],
   "source": [
    "final_df.groupBy(\"level\").count().show()"
   ]
  },
  {
   "cell_type": "code",
   "execution_count": null,
   "id": "5aa9e513-f2a7-40f3-a172-e13d3184243b",
   "metadata": {},
   "outputs": [],
   "source": []
  }
 ],
 "metadata": {
  "kernelspec": {
   "display_name": "Python 3 (ipykernel)",
   "language": "python",
   "name": "python3"
  },
  "language_info": {
   "codemirror_mode": {
    "name": "ipython",
    "version": 3
   },
   "file_extension": ".py",
   "mimetype": "text/x-python",
   "name": "python",
   "nbconvert_exporter": "python",
   "pygments_lexer": "ipython3",
   "version": "3.11.4"
  }
 },
 "nbformat": 4,
 "nbformat_minor": 5
}
