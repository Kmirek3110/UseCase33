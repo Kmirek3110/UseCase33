{
 "cells": [
  {
   "cell_type": "code",
   "execution_count": 1,
   "id": "dbf942bf-b036-4979-b74c-81b889573000",
   "metadata": {},
   "outputs": [],
   "source": [
    "import pyspark\n",
    "from pyspark.sql import SparkSession\n",
    "\n",
    "\n",
    "spark = SparkSession.builder.master(\"local[1]\")\\\n",
    "          .appName(\"main\")\\\n",
    "          .getOrCreate()\n",
    "\n",
    "\n",
    "df_accounts = spark.read.option(\"header\",True) \\\n",
    "     .csv(\"work/accounts.csv\")\n",
    "\n",
    "df_country = spark.read.option(\"header\",True) \\\n",
    "     .csv(\"work/country_abbreviation.csv\")\n",
    "\n",
    "df_trans = spark.read.option(\"header\",True) \\\n",
    "     .csv(\"work/transactions.csv\")"
   ]
  },
  {
   "cell_type": "code",
   "execution_count": 2,
   "id": "25b5b83f-a195-4ec0-83c8-1b28c4f05bb4",
   "metadata": {},
   "outputs": [
    {
     "data": {
      "text/plain": [
       "500000"
      ]
     },
     "execution_count": 2,
     "metadata": {},
     "output_type": "execute_result"
    }
   ],
   "source": [
    "df_accounts.count()"
   ]
  },
  {
   "cell_type": "code",
   "execution_count": 3,
   "id": "3ddec450-cb97-44c0-a158-7a0e9bc3081d",
   "metadata": {},
   "outputs": [
    {
     "data": {
      "text/plain": [
       "121"
      ]
     },
     "execution_count": 3,
     "metadata": {},
     "output_type": "execute_result"
    }
   ],
   "source": [
    "df_country.count()"
   ]
  },
  {
   "cell_type": "code",
   "execution_count": 4,
   "id": "3f98d6ad-11fe-418d-86c3-bc9404637558",
   "metadata": {},
   "outputs": [
    {
     "data": {
      "text/plain": [
       "5000000"
      ]
     },
     "execution_count": 4,
     "metadata": {},
     "output_type": "execute_result"
    }
   ],
   "source": [
    "df_trans.count()"
   ]
  },
  {
   "cell_type": "code",
   "execution_count": null,
   "id": "9ffe3df3-54e2-40b7-be63-b2be2f81f098",
   "metadata": {},
   "outputs": [],
   "source": []
  }
 ],
 "metadata": {
  "kernelspec": {
   "display_name": "Python 3 (ipykernel)",
   "language": "python",
   "name": "python3"
  },
  "language_info": {
   "codemirror_mode": {
    "name": "ipython",
    "version": 3
   },
   "file_extension": ".py",
   "mimetype": "text/x-python",
   "name": "python",
   "nbconvert_exporter": "python",
   "pygments_lexer": "ipython3",
   "version": "3.11.4"
  }
 },
 "nbformat": 4,
 "nbformat_minor": 5
}
