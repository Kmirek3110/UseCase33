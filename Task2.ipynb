{
 "cells": [
  {
   "cell_type": "code",
   "execution_count": 1,
   "id": "3be07ed3-09fc-4f1f-8807-e7160ac61033",
   "metadata": {},
   "outputs": [],
   "source": [
    "import pyspark\n",
    "from pyspark.sql import SparkSession\n",
    "from pyspark.sql.types import IntegerType, DateType, StringType\n",
    "from pyspark.sql.functions import *\n",
    "\n",
    "\n",
    "spark = SparkSession.builder.master(\"local[1]\")\\\n",
    "          .appName(\"task1\")\\\n",
    "          .getOrCreate()\n",
    "\n",
    "df_accounts = spark.read.option(\"header\",True) \\\n",
    "     .option(\"delimiter\", \";\")\\\n",
    "     .csv(\"work/accounts.csv\")\n",
    "\n",
    "df_country = spark.read.option(\"header\",True) \\\n",
    "    .option(\"delimiter\", \";\")\\\n",
    "     .csv(\"work/country_abbreviation.csv\")\n",
    "\n",
    "df_trans = spark.read.option(\"header\",True) \\\n",
    "    .option(\"delimiter\", \";\")\\\n",
    "     .csv(\"work/transactions.csv\")"
   ]
  },
  {
   "cell_type": "code",
   "execution_count": 2,
   "id": "8a62587b-d2f3-494a-8512-8fd4a562daa0",
   "metadata": {},
   "outputs": [],
   "source": [
    "df_trans = df_trans.withColumnRenamed(\"id\", \"account_id\")"
   ]
  },
  {
   "cell_type": "code",
   "execution_count": 3,
   "id": "0676e063-cf77-4bb1-aaaf-ce1ca95ae0df",
   "metadata": {},
   "outputs": [
    {
     "data": {
      "text/plain": [
       "[Row(account_id='179528', amount='-730.86', account_type='Business', transaction_date='2013-07-10', country='SV'),\n",
       " Row(account_id='378343', amount='-946.98', account_type='Personal', transaction_date='2018-04-06', country='YE')]"
      ]
     },
     "execution_count": 3,
     "metadata": {},
     "output_type": "execute_result"
    }
   ],
   "source": [
    "df_trans.head(2)"
   ]
  },
  {
   "cell_type": "code",
   "execution_count": 4,
   "id": "ccd94489-6152-44d0-b71e-5f635ea7e6ca",
   "metadata": {},
   "outputs": [],
   "source": [
    "df_accounts = df_accounts.where(df_accounts.country == \"CH\")"
   ]
  },
  {
   "cell_type": "code",
   "execution_count": 5,
   "id": "1ed34aff-c117-4695-bd41-c4f25640acc4",
   "metadata": {},
   "outputs": [],
   "source": [
    "df_accounts = df_accounts.withColumn(\"full_name\", concat(df_accounts.first_name,lit(\" \"),df_accounts.last_name)) "
   ]
  },
  {
   "cell_type": "code",
   "execution_count": 6,
   "id": "51fd39d1-8a53-4b77-a5ba-4af5af7647de",
   "metadata": {},
   "outputs": [],
   "source": [
    "df_accounts = df_accounts.drop(*[\"first_name\", \"last_name\", \"age\"])"
   ]
  },
  {
   "cell_type": "code",
   "execution_count": 7,
   "id": "ab0eca81-1256-4ac6-a5e3-246ed754decf",
   "metadata": {},
   "outputs": [
    {
     "data": {
      "text/plain": [
       "[Row(id='23', country='CH', full_name='Frederick Morrison'),\n",
       " Row(id='108', country='CH', full_name='Maximilian Chapman'),\n",
       " Row(id='158', country='CH', full_name='Spike Taylor')]"
      ]
     },
     "execution_count": 7,
     "metadata": {},
     "output_type": "execute_result"
    }
   ],
   "source": [
    "df_accounts.take(3)"
   ]
  },
  {
   "cell_type": "code",
   "execution_count": 8,
   "id": "58c803e4-148d-4232-b5a4-f1d74bf98ad5",
   "metadata": {},
   "outputs": [],
   "source": [
    "df_trans = df_trans.where(df_trans.amount > 0)\n",
    "df_trans = df_trans.drop(*[\"account_type\", \"country\"])\n",
    "df_trans = df_trans.withColumn(\"amount\", df_trans[\"amount\"].cast(IntegerType()))"
   ]
  },
  {
   "cell_type": "code",
   "execution_count": 9,
   "id": "f9fa08ef-b4c4-4343-9f3a-aedda2e39465",
   "metadata": {},
   "outputs": [
    {
     "data": {
      "text/plain": [
       "[Row(account_id='75450', amount=7816, transaction_date='2016-11-20'),\n",
       " Row(account_id='357719', amount=704, transaction_date='2016-11-06'),\n",
       " Row(account_id='110511', amount=3462, transaction_date='2018-01-18'),\n",
       " Row(account_id='461830', amount=762, transaction_date='2017-06-20'),\n",
       " Row(account_id='30180', amount=5390, transaction_date='2021-05-26')]"
      ]
     },
     "execution_count": 9,
     "metadata": {},
     "output_type": "execute_result"
    }
   ],
   "source": [
    "df_trans.take(5)"
   ]
  },
  {
   "cell_type": "code",
   "execution_count": 10,
   "id": "a75d5ba3-18ad-41cd-b3f2-9a673226a6c2",
   "metadata": {},
   "outputs": [],
   "source": [
    "df_trans = df_trans.withColumn(\"year\", date_trunc(\"year\", df_trans.transaction_date))"
   ]
  },
  {
   "cell_type": "code",
   "execution_count": 11,
   "id": "df6c5b10-3ea2-41f9-9965-694f3902e1e7",
   "metadata": {},
   "outputs": [
    {
     "data": {
      "text/plain": [
       "[Row(account_id='75450', amount=7816, transaction_date='2016-11-20', year=datetime.datetime(2016, 1, 1, 0, 0)),\n",
       " Row(account_id='357719', amount=704, transaction_date='2016-11-06', year=datetime.datetime(2016, 1, 1, 0, 0)),\n",
       " Row(account_id='110511', amount=3462, transaction_date='2018-01-18', year=datetime.datetime(2018, 1, 1, 0, 0)),\n",
       " Row(account_id='461830', amount=762, transaction_date='2017-06-20', year=datetime.datetime(2017, 1, 1, 0, 0)),\n",
       " Row(account_id='30180', amount=5390, transaction_date='2021-05-26', year=datetime.datetime(2021, 1, 1, 0, 0))]"
      ]
     },
     "execution_count": 11,
     "metadata": {},
     "output_type": "execute_result"
    }
   ],
   "source": [
    "df_trans.take(5)"
   ]
  },
  {
   "cell_type": "code",
   "execution_count": 12,
   "id": "dfce7072-3dc7-41f5-9c64-e496fe9c2e3c",
   "metadata": {},
   "outputs": [],
   "source": [
    "df_final = df_accounts.join(df_trans, df_accounts.id == df_trans.account_id)\\\n",
    "                        .groupby(\"year\", \"full_name\", \"id\")\\\n",
    "                        .sum(\"amount\")\\\n",
    "                        .groupby(\"full_name\")\\\n",
    "                        .pivot(\"year\")\\\n",
    "                        .sum('sum(amount)')"
   ]
  },
  {
   "cell_type": "code",
   "execution_count": null,
   "id": "c4bd4e2b-ec41-4565-a910-6efcb6ad61b0",
   "metadata": {},
   "outputs": [],
   "source": [
    "df_final.show(1)"
   ]
  },
  {
   "cell_type": "code",
   "execution_count": null,
   "id": "fd7a4af3-7bd8-4bda-9ccf-6dec7b90bc10",
   "metadata": {},
   "outputs": [],
   "source": [
    "df_final.describe()"
   ]
  }
 ],
 "metadata": {
  "kernelspec": {
   "display_name": "Python 3 (ipykernel)",
   "language": "python",
   "name": "python3"
  },
  "language_info": {
   "codemirror_mode": {
    "name": "ipython",
    "version": 3
   },
   "file_extension": ".py",
   "mimetype": "text/x-python",
   "name": "python",
   "nbconvert_exporter": "python",
   "pygments_lexer": "ipython3",
   "version": "3.11.4"
  }
 },
 "nbformat": 4,
 "nbformat_minor": 5
}
